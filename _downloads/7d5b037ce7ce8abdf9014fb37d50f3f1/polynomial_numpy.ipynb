{
  "cells": [
    {
      "cell_type": "code",
      "execution_count": 1,
      "metadata": {
        "id": "Ka7SBwsx7CTx"
      },
      "outputs": [],
      "source": [
        "# For tips on running notebooks in Google Colab, see\n",
        "# https://pytorch.org/tutorials/beginner/colab\n",
        "%matplotlib inline"
      ]
    },
    {
      "cell_type": "markdown",
      "source": [],
      "metadata": {
        "id": "F43_nYs_41x5"
      }
    },
    {
      "cell_type": "markdown",
      "metadata": {
        "id": "0DEJYbO47CTy"
      },
      "source": [
        "Warm-up: numpy\n",
        "==============\n",
        "\n",
        "A third order polynomial, trained to predict $y=\\sin(x)$ from $-\\pi$ to\n",
        "$pi$ by minimizing squared Euclidean distance.\n",
        "\n",
        "This implementation uses numpy to manually compute the forward pass,\n",
        "loss, and backward pass.\n",
        "\n",
        "A numpy array is a generic n-dimensional array; it does not know\n",
        "anything about deep learning or gradients or computational graphs, and\n",
        "is just a way to perform generic numeric computations.\n"
      ]
    },
    {
      "cell_type": "code",
      "execution_count": 2,
      "metadata": {
        "id": "-yCm6uRY7CTz",
        "outputId": "66880cda-5196-4da1-fd59-b2903f4820d8",
        "colab": {
          "base_uri": "https://localhost:8080/"
        }
      },
      "outputs": [
        {
          "output_type": "stream",
          "name": "stdout",
          "text": [
            "99 611.5269014487412\n",
            "199 435.2480926936428\n",
            "299 310.53299605862276\n",
            "399 222.2947173871011\n",
            "499 159.8636895933009\n",
            "599 115.69148821207199\n",
            "699 84.43772117232045\n",
            "799 62.324085250893624\n",
            "899 46.67740867199696\n",
            "999 35.60638064368481\n",
            "1099 27.77285202384229\n",
            "1199 22.23003783009279\n",
            "1299 18.308048699194103\n",
            "1399 15.532905341993224\n",
            "1499 13.56924107750968\n",
            "1599 12.179763168539708\n",
            "1699 11.19657083864171\n",
            "1799 10.500861898269779\n",
            "1899 10.00857440143357\n",
            "1999 9.660227455737346\n",
            "Result: y = -0.030722316314999283 + 0.855969155910295 x + 0.00530011078588751 x^2 + -0.0932206232615034 x^3\n"
          ]
        }
      ],
      "source": [
        "import numpy as np\n",
        "import math\n",
        "\n",
        "# Create random input and output data\n",
        "x = np.linspace(-math.pi, math.pi, 2000)\n",
        "print(x)\n",
        "y = np.sin(x)\n",
        "print(y)\n",
        "# Randomly initialize weights\n",
        "a = np.random.randn()\n",
        "b = np.random.randn()\n",
        "c = np.random.randn()\n",
        "d = np.random.randn()\n",
        "\n",
        "learning_rate = 1e-6\n",
        "for t in range(2000):\n",
        "    # Forward pass: compute predicted y\n",
        "    # y = a + b x + c x^2 + d x^3\n",
        "    y_pred = a + b * x + c * x ** 2 + d * x ** 3\n",
        "\n",
        "    # Compute and print loss\n",
        "    loss = np.square(y_pred - y).sum()\n",
        "    if t % 100 == 99:\n",
        "        print(t, loss)\n",
        "\n",
        "    # Backprop to compute gradients of a, b, c, d with respect to loss\n",
        "    grad_y_pred = 2.0 * (y_pred - y)\n",
        "    grad_a = grad_y_pred.sum()\n",
        "    grad_b = (grad_y_pred * x).sum()\n",
        "    grad_c = (grad_y_pred * x ** 2).sum()\n",
        "    grad_d = (grad_y_pred * x ** 3).sum()\n",
        "\n",
        "    # Update weights\n",
        "    a -= learning_rate * grad_a\n",
        "    b -= learning_rate * grad_b\n",
        "    c -= learning_rate * grad_c\n",
        "    d -= learning_rate * grad_d\n",
        "\n",
        "print(f'Result: y = {a} + {b} x + {c} x^2 + {d} x^3')"
      ]
    }
  ],
  "metadata": {
    "kernelspec": {
      "display_name": "Python 3",
      "language": "python",
      "name": "python3"
    },
    "language_info": {
      "codemirror_mode": {
        "name": "ipython",
        "version": 3
      },
      "file_extension": ".py",
      "mimetype": "text/x-python",
      "name": "python",
      "nbconvert_exporter": "python",
      "pygments_lexer": "ipython3",
      "version": "3.10.12"
    },
    "colab": {
      "provenance": []
    }
  },
  "nbformat": 4,
  "nbformat_minor": 0
}